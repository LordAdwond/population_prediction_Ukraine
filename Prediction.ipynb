{
 "cells": [
  {
   "cell_type": "code",
   "execution_count": 1,
   "metadata": {},
   "outputs": [],
   "source": [
    "import pandas as pd\n",
    "import numpy as np\n",
    "\n",
    "import matplotlib.pyplot as plt\n",
    "import seaborn as sns"
   ]
  },
  {
   "cell_type": "code",
   "execution_count": 2,
   "metadata": {},
   "outputs": [],
   "source": [
    "mid_salaty = pd.read_csv(\"mid_salary.csv\")[[\"year\", \"mid salary, hryvnias\"]]\n",
    "population = pd.read_csv(\"population.csv\")[[\"year\", \"population (thousands)\"]]"
   ]
  },
  {
   "cell_type": "code",
   "execution_count": 3,
   "metadata": {},
   "outputs": [
    {
     "data": {
      "text/html": [
       "<div>\n",
       "<style scoped>\n",
       "    .dataframe tbody tr th:only-of-type {\n",
       "        vertical-align: middle;\n",
       "    }\n",
       "\n",
       "    .dataframe tbody tr th {\n",
       "        vertical-align: top;\n",
       "    }\n",
       "\n",
       "    .dataframe thead th {\n",
       "        text-align: right;\n",
       "    }\n",
       "</style>\n",
       "<table border=\"1\" class=\"dataframe\">\n",
       "  <thead>\n",
       "    <tr style=\"text-align: right;\">\n",
       "      <th></th>\n",
       "      <th>year</th>\n",
       "      <th>mid salary, hryvnias</th>\n",
       "    </tr>\n",
       "  </thead>\n",
       "  <tbody>\n",
       "    <tr>\n",
       "      <th>0</th>\n",
       "      <td>1996</td>\n",
       "      <td>125.23</td>\n",
       "    </tr>\n",
       "    <tr>\n",
       "      <th>1</th>\n",
       "      <td>1997</td>\n",
       "      <td>143.09</td>\n",
       "    </tr>\n",
       "    <tr>\n",
       "      <th>2</th>\n",
       "      <td>1998</td>\n",
       "      <td>152.83</td>\n",
       "    </tr>\n",
       "    <tr>\n",
       "      <th>3</th>\n",
       "      <td>1999</td>\n",
       "      <td>177.39</td>\n",
       "    </tr>\n",
       "    <tr>\n",
       "      <th>4</th>\n",
       "      <td>2000</td>\n",
       "      <td>231.04</td>\n",
       "    </tr>\n",
       "  </tbody>\n",
       "</table>\n",
       "</div>"
      ],
      "text/plain": [
       "   year  mid salary, hryvnias\n",
       "0  1996                125.23\n",
       "1  1997                143.09\n",
       "2  1998                152.83\n",
       "3  1999                177.39\n",
       "4  2000                231.04"
      ]
     },
     "execution_count": 3,
     "metadata": {},
     "output_type": "execute_result"
    }
   ],
   "source": [
    "mid_salaty.head()"
   ]
  },
  {
   "cell_type": "code",
   "execution_count": 4,
   "metadata": {},
   "outputs": [
    {
     "data": {
      "text/html": [
       "<div>\n",
       "<style scoped>\n",
       "    .dataframe tbody tr th:only-of-type {\n",
       "        vertical-align: middle;\n",
       "    }\n",
       "\n",
       "    .dataframe tbody tr th {\n",
       "        vertical-align: top;\n",
       "    }\n",
       "\n",
       "    .dataframe thead th {\n",
       "        text-align: right;\n",
       "    }\n",
       "</style>\n",
       "<table border=\"1\" class=\"dataframe\">\n",
       "  <thead>\n",
       "    <tr style=\"text-align: right;\">\n",
       "      <th></th>\n",
       "      <th>year</th>\n",
       "      <th>population (thousands)</th>\n",
       "    </tr>\n",
       "  </thead>\n",
       "  <tbody>\n",
       "    <tr>\n",
       "      <th>0</th>\n",
       "      <td>1996</td>\n",
       "      <td>51297.1</td>\n",
       "    </tr>\n",
       "    <tr>\n",
       "      <th>1</th>\n",
       "      <td>1997</td>\n",
       "      <td>50818.4</td>\n",
       "    </tr>\n",
       "    <tr>\n",
       "      <th>2</th>\n",
       "      <td>1998</td>\n",
       "      <td>50370.8</td>\n",
       "    </tr>\n",
       "    <tr>\n",
       "      <th>3</th>\n",
       "      <td>1999</td>\n",
       "      <td>49918.1</td>\n",
       "    </tr>\n",
       "    <tr>\n",
       "      <th>4</th>\n",
       "      <td>2000</td>\n",
       "      <td>49429.8</td>\n",
       "    </tr>\n",
       "  </tbody>\n",
       "</table>\n",
       "</div>"
      ],
      "text/plain": [
       "   year  population (thousands)\n",
       "0  1996                 51297.1\n",
       "1  1997                 50818.4\n",
       "2  1998                 50370.8\n",
       "3  1999                 49918.1\n",
       "4  2000                 49429.8"
      ]
     },
     "execution_count": 4,
     "metadata": {},
     "output_type": "execute_result"
    }
   ],
   "source": [
    "population.head()"
   ]
  },
  {
   "cell_type": "code",
   "execution_count": 5,
   "metadata": {},
   "outputs": [],
   "source": [
    "salaries = mid_salaty[\"mid salary, hryvnias\"].to_list()\n",
    "n = len(salaries)\n",
    "populations = population[\"population (thousands)\"].to_list()\n",
    "m = len(populations)\n",
    "\n",
    "salary_X = pd.DataFrame([ [salaries[i], salaries[i+1], salaries[i+2]] for i in range(n-3) ])\n",
    "salary_y = pd.Series(salaries[3:])\n",
    "population_X = pd.DataFrame([ [populations[i], populations[i+1], populations[i+2]] for i in range(m-3) ])\n",
    "population_y = pd.Series(populations[3:])"
   ]
  },
  {
   "cell_type": "code",
   "execution_count": 6,
   "metadata": {},
   "outputs": [],
   "source": [
    "from sklearn.neural_network import MLPRegressor\n",
    "from sklearn import metrics"
   ]
  },
  {
   "cell_type": "code",
   "execution_count": 7,
   "metadata": {},
   "outputs": [
    {
     "data": {
      "image/png": "[encoded data removed]",
      "text/plain": [
       "<Figure size 432x288 with 1 Axes>"
      ]
     },
     "metadata": {
      "needs_background": "light"
     },
     "output_type": "display_data"
    }
   ],
   "source": [
    "mlp_salary_model = MLPRegressor((25, 75, 100, 50, 100, 25), activation=\"relu\").fit(salary_X, salary_y)\n",
    "pred = mlp_salary_model.predict(salary_X)\n",
    "\n",
    "plt.plot(mid_salaty[\"year\"], mid_salaty[\"mid salary, hryvnias\"])\n",
    "plt.plot(mid_salaty[\"year\"].to_list()[3:], pred)\n",
    "plt.show()"
   ]
  },
  {
   "cell_type": "code",
   "execution_count": 8,
   "metadata": {},
   "outputs": [
    {
     "name": "stderr",
     "output_type": "stream",
     "text": [
      "c:\\users\\lord adwond\\appdata\\local\\programs\\python\\python39\\lib\\site-packages\\sklearn\\neural_network\\_multilayer_perceptron.py:692: ConvergenceWarning: Stochastic Optimizer: Maximum iterations (200) reached and the optimization hasn't converged yet.\n",
      "  warnings.warn(\n"
     ]
    },
    {
     "data": {
      "image/png": "[encoded data removed]",
      "text/plain": [
       "<Figure size 432x288 with 1 Axes>"
      ]
     },
     "metadata": {
      "needs_background": "light"
     },
     "output_type": "display_data"
    }
   ],
   "source": [
    "mlp_population_model = MLPRegressor((5, 25, 75, 200, 50, 200, 50, 25, 5), activation=\"tanh\").fit(population_X, population_y)\n",
    "pred = mlp_salary_model.predict(population_X)\n",
    "\n",
    "plt.plot(population[\"year\"], population[\"population (thousands)\"])\n",
    "plt.plot(population[\"year\"].to_list()[3:], pred)\n",
    "plt.show()"
   ]
  },
  {
   "cell_type": "markdown",
   "metadata": {},
   "source": [
    "Training of prediction model."
   ]
  },
  {
   "cell_type": "code",
   "execution_count": 20,
   "metadata": {},
   "outputs": [],
   "source": [
    "X = pd.DataFrame([ [salaries[i], salaries[i+1], salaries[i+2], populations[i], populations[i+1], populations[i+2]] for i in range(n-3) ])\n",
    "y = population_y"
   ]
  },
  {
   "cell_type": "code",
   "execution_count": 21,
   "metadata": {},
   "outputs": [
    {
     "data": {
      "text/html": [
       "<div>\n",
       "<style scoped>\n",
       "    .dataframe tbody tr th:only-of-type {\n",
       "        vertical-align: middle;\n",
       "    }\n",
       "\n",
       "    .dataframe tbody tr th {\n",
       "        vertical-align: top;\n",
       "    }\n",
       "\n",
       "    .dataframe thead th {\n",
       "        text-align: right;\n",
       "    }\n",
       "</style>\n",
       "<table border=\"1\" class=\"dataframe\">\n",
       "  <thead>\n",
       "    <tr style=\"text-align: right;\">\n",
       "      <th></th>\n",
       "      <th>0</th>\n",
       "      <th>1</th>\n",
       "      <th>2</th>\n",
       "      <th>3</th>\n",
       "      <th>4</th>\n",
       "      <th>5</th>\n",
       "    </tr>\n",
       "  </thead>\n",
       "  <tbody>\n",
       "    <tr>\n",
       "      <th>0</th>\n",
       "      <td>125.23</td>\n",
       "      <td>143.09</td>\n",
       "      <td>152.83</td>\n",
       "      <td>51297.1</td>\n",
       "      <td>50818.4</td>\n",
       "      <td>50370.8</td>\n",
       "    </tr>\n",
       "    <tr>\n",
       "      <th>1</th>\n",
       "      <td>143.09</td>\n",
       "      <td>152.83</td>\n",
       "      <td>177.39</td>\n",
       "      <td>50818.4</td>\n",
       "      <td>50370.8</td>\n",
       "      <td>49918.1</td>\n",
       "    </tr>\n",
       "    <tr>\n",
       "      <th>2</th>\n",
       "      <td>152.83</td>\n",
       "      <td>177.39</td>\n",
       "      <td>231.04</td>\n",
       "      <td>50370.8</td>\n",
       "      <td>49918.1</td>\n",
       "      <td>49429.8</td>\n",
       "    </tr>\n",
       "    <tr>\n",
       "      <th>3</th>\n",
       "      <td>177.39</td>\n",
       "      <td>231.04</td>\n",
       "      <td>311.62</td>\n",
       "      <td>49918.1</td>\n",
       "      <td>49429.8</td>\n",
       "      <td>48923.2</td>\n",
       "    </tr>\n",
       "    <tr>\n",
       "      <th>4</th>\n",
       "      <td>231.04</td>\n",
       "      <td>311.62</td>\n",
       "      <td>375.98</td>\n",
       "      <td>49429.8</td>\n",
       "      <td>48923.2</td>\n",
       "      <td>48457.1</td>\n",
       "    </tr>\n",
       "    <tr>\n",
       "      <th>5</th>\n",
       "      <td>311.62</td>\n",
       "      <td>375.98</td>\n",
       "      <td>462.58</td>\n",
       "      <td>48923.2</td>\n",
       "      <td>48457.1</td>\n",
       "      <td>48003.5</td>\n",
       "    </tr>\n",
       "    <tr>\n",
       "      <th>6</th>\n",
       "      <td>375.98</td>\n",
       "      <td>462.58</td>\n",
       "      <td>590.53</td>\n",
       "      <td>48457.1</td>\n",
       "      <td>48003.5</td>\n",
       "      <td>47622.4</td>\n",
       "    </tr>\n",
       "    <tr>\n",
       "      <th>7</th>\n",
       "      <td>462.58</td>\n",
       "      <td>590.53</td>\n",
       "      <td>806.14</td>\n",
       "      <td>48003.5</td>\n",
       "      <td>47622.4</td>\n",
       "      <td>47280.8</td>\n",
       "    </tr>\n",
       "    <tr>\n",
       "      <th>8</th>\n",
       "      <td>590.53</td>\n",
       "      <td>806.14</td>\n",
       "      <td>1042.88</td>\n",
       "      <td>47622.4</td>\n",
       "      <td>47280.8</td>\n",
       "      <td>46929.5</td>\n",
       "    </tr>\n",
       "    <tr>\n",
       "      <th>9</th>\n",
       "      <td>806.14</td>\n",
       "      <td>1042.88</td>\n",
       "      <td>1352.75</td>\n",
       "      <td>47280.8</td>\n",
       "      <td>46929.5</td>\n",
       "      <td>46646.0</td>\n",
       "    </tr>\n",
       "    <tr>\n",
       "      <th>10</th>\n",
       "      <td>1042.88</td>\n",
       "      <td>1352.75</td>\n",
       "      <td>1808.92</td>\n",
       "      <td>46929.5</td>\n",
       "      <td>46646.0</td>\n",
       "      <td>46372.7</td>\n",
       "    </tr>\n",
       "    <tr>\n",
       "      <th>11</th>\n",
       "      <td>1352.75</td>\n",
       "      <td>1808.92</td>\n",
       "      <td>1909.25</td>\n",
       "      <td>46646.0</td>\n",
       "      <td>46372.7</td>\n",
       "      <td>46143.7</td>\n",
       "    </tr>\n",
       "    <tr>\n",
       "      <th>12</th>\n",
       "      <td>1808.92</td>\n",
       "      <td>1909.25</td>\n",
       "      <td>2246.75</td>\n",
       "      <td>46372.7</td>\n",
       "      <td>46143.7</td>\n",
       "      <td>45962.9</td>\n",
       "    </tr>\n",
       "    <tr>\n",
       "      <th>13</th>\n",
       "      <td>1909.25</td>\n",
       "      <td>2246.75</td>\n",
       "      <td>2639.17</td>\n",
       "      <td>46143.7</td>\n",
       "      <td>45962.9</td>\n",
       "      <td>45778.5</td>\n",
       "    </tr>\n",
       "    <tr>\n",
       "      <th>14</th>\n",
       "      <td>2246.75</td>\n",
       "      <td>2639.17</td>\n",
       "      <td>3031.92</td>\n",
       "      <td>45962.9</td>\n",
       "      <td>45778.5</td>\n",
       "      <td>45633.6</td>\n",
       "    </tr>\n",
       "    <tr>\n",
       "      <th>15</th>\n",
       "      <td>2639.17</td>\n",
       "      <td>3031.92</td>\n",
       "      <td>3273.82</td>\n",
       "      <td>45778.5</td>\n",
       "      <td>45633.6</td>\n",
       "      <td>45553.0</td>\n",
       "    </tr>\n",
       "    <tr>\n",
       "      <th>16</th>\n",
       "      <td>3031.92</td>\n",
       "      <td>3273.82</td>\n",
       "      <td>3474.75</td>\n",
       "      <td>45633.6</td>\n",
       "      <td>45553.0</td>\n",
       "      <td>45426.2</td>\n",
       "    </tr>\n",
       "    <tr>\n",
       "      <th>17</th>\n",
       "      <td>3273.82</td>\n",
       "      <td>3474.75</td>\n",
       "      <td>4207.33</td>\n",
       "      <td>45553.0</td>\n",
       "      <td>45426.2</td>\n",
       "      <td>42928.9</td>\n",
       "    </tr>\n",
       "    <tr>\n",
       "      <th>18</th>\n",
       "      <td>3474.75</td>\n",
       "      <td>4207.33</td>\n",
       "      <td>5187.33</td>\n",
       "      <td>45426.2</td>\n",
       "      <td>42928.9</td>\n",
       "      <td>42760.5</td>\n",
       "    </tr>\n",
       "    <tr>\n",
       "      <th>19</th>\n",
       "      <td>4207.33</td>\n",
       "      <td>5187.33</td>\n",
       "      <td>7105.42</td>\n",
       "      <td>42928.9</td>\n",
       "      <td>42760.5</td>\n",
       "      <td>42584.5</td>\n",
       "    </tr>\n",
       "    <tr>\n",
       "      <th>20</th>\n",
       "      <td>5187.33</td>\n",
       "      <td>7105.42</td>\n",
       "      <td>8867.33</td>\n",
       "      <td>42760.5</td>\n",
       "      <td>42584.5</td>\n",
       "      <td>42386.4</td>\n",
       "    </tr>\n",
       "    <tr>\n",
       "      <th>21</th>\n",
       "      <td>7105.42</td>\n",
       "      <td>8867.33</td>\n",
       "      <td>10503.75</td>\n",
       "      <td>42584.5</td>\n",
       "      <td>42386.4</td>\n",
       "      <td>42153.2</td>\n",
       "    </tr>\n",
       "    <tr>\n",
       "      <th>22</th>\n",
       "      <td>8867.33</td>\n",
       "      <td>10503.75</td>\n",
       "      <td>11596.60</td>\n",
       "      <td>42386.4</td>\n",
       "      <td>42153.2</td>\n",
       "      <td>41902.4</td>\n",
       "    </tr>\n",
       "    <tr>\n",
       "      <th>23</th>\n",
       "      <td>10503.75</td>\n",
       "      <td>11596.60</td>\n",
       "      <td>11551.95</td>\n",
       "      <td>42153.2</td>\n",
       "      <td>41902.4</td>\n",
       "      <td>41588.4</td>\n",
       "    </tr>\n",
       "  </tbody>\n",
       "</table>\n",
       "</div>"
      ],
      "text/plain": [
       "           0         1         2        3        4        5\n",
       "0     125.23    143.09    152.83  51297.1  50818.4  50370.8\n",
       "1     143.09    152.83    177.39  50818.4  50370.8  49918.1\n",
       "2     152.83    177.39    231.04  50370.8  49918.1  49429.8\n",
       "3     177.39    231.04    311.62  49918.1  49429.8  48923.2\n",
       "4     231.04    311.62    375.98  49429.8  48923.2  48457.1\n",
       "5     311.62    375.98    462.58  48923.2  48457.1  48003.5\n",
       "6     375.98    462.58    590.53  48457.1  48003.5  47622.4\n",
       "7     462.58    590.53    806.14  48003.5  47622.4  47280.8\n",
       "8     590.53    806.14   1042.88  47622.4  47280.8  46929.5\n",
       "9     806.14   1042.88   1352.75  47280.8  46929.5  46646.0\n",
       "10   1042.88   1352.75   1808.92  46929.5  46646.0  46372.7\n",
       "11   1352.75   1808.92   1909.25  46646.0  46372.7  46143.7\n",
       "12   1808.92   1909.25   2246.75  46372.7  46143.7  45962.9\n",
       "13   1909.25   2246.75   2639.17  46143.7  45962.9  45778.5\n",
       "14   2246.75   2639.17   3031.92  45962.9  45778.5  45633.6\n",
       "15   2639.17   3031.92   3273.82  45778.5  45633.6  45553.0\n",
       "16   3031.92   3273.82   3474.75  45633.6  45553.0  45426.2\n",
       "17   3273.82   3474.75   4207.33  45553.0  45426.2  42928.9\n",
       "18   3474.75   4207.33   5187.33  45426.2  42928.9  42760.5\n",
       "19   4207.33   5187.33   7105.42  42928.9  42760.5  42584.5\n",
       "20   5187.33   7105.42   8867.33  42760.5  42584.5  42386.4\n",
       "21   7105.42   8867.33  10503.75  42584.5  42386.4  42153.2\n",
       "22   8867.33  10503.75  11596.60  42386.4  42153.2  41902.4\n",
       "23  10503.75  11596.60  11551.95  42153.2  41902.4  41588.4"
      ]
     },
     "execution_count": 21,
     "metadata": {},
     "output_type": "execute_result"
    }
   ],
   "source": [
    "X"
   ]
  },
  {
   "cell_type": "code",
   "execution_count": 22,
   "metadata": {},
   "outputs": [
    {
     "data": {
      "text/plain": [
       "0     49918.1\n",
       "1     49429.8\n",
       "2     48923.2\n",
       "3     48457.1\n",
       "4     48003.5\n",
       "5     47622.4\n",
       "6     47280.8\n",
       "7     46929.5\n",
       "8     46646.0\n",
       "9     46372.7\n",
       "10    46143.7\n",
       "11    45962.9\n",
       "12    45778.5\n",
       "13    45633.6\n",
       "14    45553.0\n",
       "15    45426.2\n",
       "16    42928.9\n",
       "17    42760.5\n",
       "18    42584.5\n",
       "19    42386.4\n",
       "20    42153.2\n",
       "21    41902.4\n",
       "22    41588.4\n",
       "23    41167.3\n",
       "dtype: float64"
      ]
     },
     "execution_count": 22,
     "metadata": {},
     "output_type": "execute_result"
    }
   ],
   "source": [
    "y"
   ]
  },
  {
   "cell_type": "code",
   "execution_count": 35,
   "metadata": {},
   "outputs": [
    {
     "data": {
      "image/png": "[encoded data removed]",
      "text/plain": [
       "<Figure size 432x288 with 1 Axes>"
      ]
     },
     "metadata": {
      "needs_background": "light"
     },
     "output_type": "display_data"
    }
   ],
   "source": [
    "mlp_model = MLPRegressor((12, 23, 34, 45, 75, 50, 15, 100, 50, 75, 25, 5)).fit(X, y)\n",
    "pred = mlp_model.predict(X)\n",
    "\n",
    "plt.plot(population[\"year\"], population[\"population (thousands)\"])\n",
    "plt.plot(population[\"year\"].to_list()[3:], pred)\n",
    "plt.show()"
   ]
  },
  {
   "cell_type": "code",
   "execution_count": null,
   "metadata": {},
   "outputs": [],
   "source": []
  }
 ],
 "metadata": {
  "kernelspec": {
   "display_name": "Python 3 (ipykernel)",
   "language": "python",
   "name": "python3"
  },
  "language_info": {
   "codemirror_mode": {
    "name": "ipython",
    "version": 3
   },
   "file_extension": ".py",
   "mimetype": "text/x-python",
   "name": "python",
   "nbconvert_exporter": "python",
   "pygments_lexer": "ipython3",
   "version": "3.9.7"
  }
 },
 "nbformat": 4,
 "nbformat_minor": 4
}
