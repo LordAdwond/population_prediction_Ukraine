{
 "cells": [
  {
   "cell_type": "code",
   "execution_count": 1,
   "metadata": {},
   "outputs": [],
   "source": [
    "import pandas as pd\n",
    "import numpy as np\n",
    "\n",
    "import matplotlib.pyplot as plt\n",
    "import seaborn as sns"
   ]
  },
  {
   "cell_type": "code",
   "execution_count": 2,
   "metadata": {},
   "outputs": [],
   "source": [
    "mid_salaty = pd.read_csv(\"mid_salary.csv\")[[\"year\", \"mid salary, hryvnias\"]]\n",
    "population = pd.read_csv(\"population.csv\")[[\"year\", \"population (thousands)\"]]\n",
    "fertility_rate = pd.read_csv(\"fertility_rate.csv\")[[\"year\", \"fertility rate\"]]"
   ]
  },
  {
   "cell_type": "code",
   "execution_count": 3,
   "metadata": {},
   "outputs": [
    {
     "data": {
      "text/html": [
       "<div>\n",
       "<style scoped>\n",
       "    .dataframe tbody tr th:only-of-type {\n",
       "        vertical-align: middle;\n",
       "    }\n",
       "\n",
       "    .dataframe tbody tr th {\n",
       "        vertical-align: top;\n",
       "    }\n",
       "\n",
       "    .dataframe thead th {\n",
       "        text-align: right;\n",
       "    }\n",
       "</style>\n",
       "<table border=\"1\" class=\"dataframe\">\n",
       "  <thead>\n",
       "    <tr style=\"text-align: right;\">\n",
       "      <th></th>\n",
       "      <th>year</th>\n",
       "      <th>mid salary, hryvnias</th>\n",
       "    </tr>\n",
       "  </thead>\n",
       "  <tbody>\n",
       "    <tr>\n",
       "      <th>0</th>\n",
       "      <td>1996</td>\n",
       "      <td>125.23</td>\n",
       "    </tr>\n",
       "    <tr>\n",
       "      <th>1</th>\n",
       "      <td>1997</td>\n",
       "      <td>143.09</td>\n",
       "    </tr>\n",
       "    <tr>\n",
       "      <th>2</th>\n",
       "      <td>1998</td>\n",
       "      <td>152.83</td>\n",
       "    </tr>\n",
       "    <tr>\n",
       "      <th>3</th>\n",
       "      <td>1999</td>\n",
       "      <td>177.39</td>\n",
       "    </tr>\n",
       "    <tr>\n",
       "      <th>4</th>\n",
       "      <td>2000</td>\n",
       "      <td>231.04</td>\n",
       "    </tr>\n",
       "  </tbody>\n",
       "</table>\n",
       "</div>"
      ],
      "text/plain": [
       "   year  mid salary, hryvnias\n",
       "0  1996                125.23\n",
       "1  1997                143.09\n",
       "2  1998                152.83\n",
       "3  1999                177.39\n",
       "4  2000                231.04"
      ]
     },
     "execution_count": 3,
     "metadata": {},
     "output_type": "execute_result"
    }
   ],
   "source": [
    "mid_salaty.head()"
   ]
  },
  {
   "cell_type": "code",
   "execution_count": 4,
   "metadata": {},
   "outputs": [
    {
     "data": {
      "text/html": [
       "<div>\n",
       "<style scoped>\n",
       "    .dataframe tbody tr th:only-of-type {\n",
       "        vertical-align: middle;\n",
       "    }\n",
       "\n",
       "    .dataframe tbody tr th {\n",
       "        vertical-align: top;\n",
       "    }\n",
       "\n",
       "    .dataframe thead th {\n",
       "        text-align: right;\n",
       "    }\n",
       "</style>\n",
       "<table border=\"1\" class=\"dataframe\">\n",
       "  <thead>\n",
       "    <tr style=\"text-align: right;\">\n",
       "      <th></th>\n",
       "      <th>year</th>\n",
       "      <th>population (thousands)</th>\n",
       "    </tr>\n",
       "  </thead>\n",
       "  <tbody>\n",
       "    <tr>\n",
       "      <th>0</th>\n",
       "      <td>1996</td>\n",
       "      <td>51297.1</td>\n",
       "    </tr>\n",
       "    <tr>\n",
       "      <th>1</th>\n",
       "      <td>1997</td>\n",
       "      <td>50818.4</td>\n",
       "    </tr>\n",
       "    <tr>\n",
       "      <th>2</th>\n",
       "      <td>1998</td>\n",
       "      <td>50370.8</td>\n",
       "    </tr>\n",
       "    <tr>\n",
       "      <th>3</th>\n",
       "      <td>1999</td>\n",
       "      <td>49918.1</td>\n",
       "    </tr>\n",
       "    <tr>\n",
       "      <th>4</th>\n",
       "      <td>2000</td>\n",
       "      <td>49429.8</td>\n",
       "    </tr>\n",
       "  </tbody>\n",
       "</table>\n",
       "</div>"
      ],
      "text/plain": [
       "   year  population (thousands)\n",
       "0  1996                 51297.1\n",
       "1  1997                 50818.4\n",
       "2  1998                 50370.8\n",
       "3  1999                 49918.1\n",
       "4  2000                 49429.8"
      ]
     },
     "execution_count": 4,
     "metadata": {},
     "output_type": "execute_result"
    }
   ],
   "source": [
    "population.head()"
   ]
  },
  {
   "cell_type": "code",
   "execution_count": 5,
   "metadata": {},
   "outputs": [
    {
     "data": {
      "text/html": [
       "<div>\n",
       "<style scoped>\n",
       "    .dataframe tbody tr th:only-of-type {\n",
       "        vertical-align: middle;\n",
       "    }\n",
       "\n",
       "    .dataframe tbody tr th {\n",
       "        vertical-align: top;\n",
       "    }\n",
       "\n",
       "    .dataframe thead th {\n",
       "        text-align: right;\n",
       "    }\n",
       "</style>\n",
       "<table border=\"1\" class=\"dataframe\">\n",
       "  <thead>\n",
       "    <tr style=\"text-align: right;\">\n",
       "      <th></th>\n",
       "      <th>year</th>\n",
       "      <th>fertility rate</th>\n",
       "    </tr>\n",
       "  </thead>\n",
       "  <tbody>\n",
       "    <tr>\n",
       "      <th>0</th>\n",
       "      <td>1996</td>\n",
       "      <td>1.36</td>\n",
       "    </tr>\n",
       "    <tr>\n",
       "      <th>1</th>\n",
       "      <td>1997</td>\n",
       "      <td>1.27</td>\n",
       "    </tr>\n",
       "    <tr>\n",
       "      <th>2</th>\n",
       "      <td>1998</td>\n",
       "      <td>1.21</td>\n",
       "    </tr>\n",
       "    <tr>\n",
       "      <th>3</th>\n",
       "      <td>1999</td>\n",
       "      <td>1.13</td>\n",
       "    </tr>\n",
       "    <tr>\n",
       "      <th>4</th>\n",
       "      <td>2000</td>\n",
       "      <td>1.12</td>\n",
       "    </tr>\n",
       "  </tbody>\n",
       "</table>\n",
       "</div>"
      ],
      "text/plain": [
       "   year  fertility rate\n",
       "0  1996            1.36\n",
       "1  1997            1.27\n",
       "2  1998            1.21\n",
       "3  1999            1.13\n",
       "4  2000            1.12"
      ]
     },
     "execution_count": 5,
     "metadata": {},
     "output_type": "execute_result"
    }
   ],
   "source": [
    "fertility_rate.head()"
   ]
  },
  {
   "cell_type": "markdown",
   "metadata": {},
   "source": [
    "Single time series prediction models"
   ]
  },
  {
   "cell_type": "code",
   "execution_count": 23,
   "metadata": {},
   "outputs": [],
   "source": [
    "salaries = mid_salaty[\"mid salary, hryvnias\"].to_list()\n",
    "n = len(salaries)\n",
    "populations = population[\"population (thousands)\"].to_list()\n",
    "m = len(populations)\n",
    "fertility_rates = fertility_rate[\"fertility rate\"].to_list()\n",
    "l = len(fertility_rates)\n",
    "\n",
    "salary_X = pd.DataFrame([ [salaries[i], salaries[i+1], salaries[i+2]] for i in range(n-3) ])\n",
    "salary_y = pd.Series(salaries[3:])\n",
    "population_X = pd.DataFrame([ [populations[i], populations[i+1], populations[i+2]] for i in range(m-3) ])\n",
    "population_y = pd.Series(populations[3:])\n",
    "fertility_rate_X = pd.DataFrame([ [fertility_rates[i], fertility_rates[i+1], fertility_rates[i+2]] for i in range(l-3) ])\n",
    "fertility_rate_y = pd.Series(fertility_rates[3:])"
   ]
  },
  {
   "cell_type": "code",
   "execution_count": 7,
   "metadata": {},
   "outputs": [],
   "source": [
    "from sklearn.neural_network import MLPRegressor\n",
    "from sklearn.linear_model import LinearRegression\n",
    "from sklearn import metrics"
   ]
  },
  {
   "cell_type": "markdown",
   "metadata": {},
   "source": [
    "For salary"
   ]
  },
  {
   "cell_type": "code",
   "execution_count": 8,
   "metadata": {},
   "outputs": [
    {
     "data": {
      "image/png": "[encoded data removed]",
      "text/plain": [
       "<Figure size 432x288 with 1 Axes>"
      ]
     },
     "metadata": {
      "needs_background": "light"
     },
     "output_type": "display_data"
    }
   ],
   "source": [
    "mlp_salary_model = MLPRegressor((25, 75, 100, 50, 25, 100, 25), activation=\"relu\").fit(salary_X, salary_y)\n",
    "pred = mlp_salary_model.predict(salary_X)\n",
    "\n",
    "plt.plot(mid_salaty[\"year\"], mid_salaty[\"mid salary, hryvnias\"])\n",
    "plt.plot(mid_salaty[\"year\"].to_list()[3:], pred)\n",
    "plt.show()"
   ]
  },
  {
   "cell_type": "markdown",
   "metadata": {},
   "source": [
    "For population"
   ]
  },
  {
   "cell_type": "code",
   "execution_count": 25,
   "metadata": {},
   "outputs": [
    {
     "data": {
      "image/png": "[encoded data removed]",
      "text/plain": [
       "<Figure size 432x288 with 1 Axes>"
      ]
     },
     "metadata": {
      "needs_background": "light"
     },
     "output_type": "display_data"
    }
   ],
   "source": [
    "lr_population_model = LinearRegression().fit(population_X, population_y)\n",
    "pred = lr_population_model.predict(population_X)\n",
    "\n",
    "plt.plot(population[\"year\"], population[\"population (thousands)\"])\n",
    "plt.plot(population[\"year\"].to_list()[3:], pred)\n",
    "plt.show()"
   ]
  },
  {
   "cell_type": "markdown",
   "metadata": {},
   "source": [
    "For fertility rate"
   ]
  },
  {
   "cell_type": "code",
   "execution_count": 31,
   "metadata": {},
   "outputs": [
    {
     "data": {
      "image/png": "[encoded data removed]",
      "text/plain": [
       "<Figure size 432x288 with 1 Axes>"
      ]
     },
     "metadata": {
      "needs_background": "light"
     },
     "output_type": "display_data"
    }
   ],
   "source": [
    "lr_fertility_rate_model = MLPRegressor().fit(fertility_rate_X, fertility_rate_y)\n",
    "pred = lr_fertility_rate_model.predict(fertility_rate_X).tolist()\n",
    "\n",
    "plt.plot(fertility_rate[\"year\"], fertility_rate[\"fertility rate\"])\n",
    "plt.plot(fertility_rate[\"year\"].to_list()[3:], pred)\n",
    "plt.show()"
   ]
  },
  {
   "cell_type": "markdown",
   "metadata": {},
   "source": [
    "Training of prediction model."
   ]
  },
  {
   "cell_type": "code",
   "execution_count": 32,
   "metadata": {},
   "outputs": [],
   "source": [
    "X = pd.DataFrame([ [salaries[i], salaries[i+1], salaries[i+2], populations[i], populations[i+1], populations[i+2], fertility_rates[i], fertility_rates[i+1], fertility_rates[i+2]] for i in range(n-3) ])\n",
    "y = pd.Series(pd.read_csv(\"population.csv\")[\"population (thousands)\"].to_list()[3:])"
   ]
  },
  {
   "cell_type": "code",
   "execution_count": 33,
   "metadata": {},
   "outputs": [
    {
     "data": {
      "text/html": [
       "<div>\n",
       "<style scoped>\n",
       "    .dataframe tbody tr th:only-of-type {\n",
       "        vertical-align: middle;\n",
       "    }\n",
       "\n",
       "    .dataframe tbody tr th {\n",
       "        vertical-align: top;\n",
       "    }\n",
       "\n",
       "    .dataframe thead th {\n",
       "        text-align: right;\n",
       "    }\n",
       "</style>\n",
       "<table border=\"1\" class=\"dataframe\">\n",
       "  <thead>\n",
       "    <tr style=\"text-align: right;\">\n",
       "      <th></th>\n",
       "      <th>0</th>\n",
       "      <th>1</th>\n",
       "      <th>2</th>\n",
       "      <th>3</th>\n",
       "      <th>4</th>\n",
       "      <th>5</th>\n",
       "      <th>6</th>\n",
       "      <th>7</th>\n",
       "      <th>8</th>\n",
       "    </tr>\n",
       "  </thead>\n",
       "  <tbody>\n",
       "    <tr>\n",
       "      <th>0</th>\n",
       "      <td>125.23</td>\n",
       "      <td>143.09</td>\n",
       "      <td>152.83</td>\n",
       "      <td>51297.1</td>\n",
       "      <td>50818.4</td>\n",
       "      <td>50370.8</td>\n",
       "      <td>1.36</td>\n",
       "      <td>1.27</td>\n",
       "      <td>1.21</td>\n",
       "    </tr>\n",
       "    <tr>\n",
       "      <th>1</th>\n",
       "      <td>143.09</td>\n",
       "      <td>152.83</td>\n",
       "      <td>177.39</td>\n",
       "      <td>50818.4</td>\n",
       "      <td>50370.8</td>\n",
       "      <td>49918.1</td>\n",
       "      <td>1.27</td>\n",
       "      <td>1.21</td>\n",
       "      <td>1.13</td>\n",
       "    </tr>\n",
       "    <tr>\n",
       "      <th>2</th>\n",
       "      <td>152.83</td>\n",
       "      <td>177.39</td>\n",
       "      <td>231.04</td>\n",
       "      <td>50370.8</td>\n",
       "      <td>49918.1</td>\n",
       "      <td>49429.8</td>\n",
       "      <td>1.21</td>\n",
       "      <td>1.13</td>\n",
       "      <td>1.12</td>\n",
       "    </tr>\n",
       "    <tr>\n",
       "      <th>3</th>\n",
       "      <td>177.39</td>\n",
       "      <td>231.04</td>\n",
       "      <td>311.62</td>\n",
       "      <td>49918.1</td>\n",
       "      <td>49429.8</td>\n",
       "      <td>48923.2</td>\n",
       "      <td>1.13</td>\n",
       "      <td>1.12</td>\n",
       "      <td>1.08</td>\n",
       "    </tr>\n",
       "    <tr>\n",
       "      <th>4</th>\n",
       "      <td>231.04</td>\n",
       "      <td>311.62</td>\n",
       "      <td>375.98</td>\n",
       "      <td>49429.8</td>\n",
       "      <td>48923.2</td>\n",
       "      <td>48457.1</td>\n",
       "      <td>1.12</td>\n",
       "      <td>1.08</td>\n",
       "      <td>1.10</td>\n",
       "    </tr>\n",
       "    <tr>\n",
       "      <th>5</th>\n",
       "      <td>311.62</td>\n",
       "      <td>375.98</td>\n",
       "      <td>462.58</td>\n",
       "      <td>48923.2</td>\n",
       "      <td>48457.1</td>\n",
       "      <td>48003.5</td>\n",
       "      <td>1.08</td>\n",
       "      <td>1.10</td>\n",
       "      <td>1.17</td>\n",
       "    </tr>\n",
       "    <tr>\n",
       "      <th>6</th>\n",
       "      <td>375.98</td>\n",
       "      <td>462.58</td>\n",
       "      <td>590.53</td>\n",
       "      <td>48457.1</td>\n",
       "      <td>48003.5</td>\n",
       "      <td>47622.4</td>\n",
       "      <td>1.10</td>\n",
       "      <td>1.17</td>\n",
       "      <td>1.22</td>\n",
       "    </tr>\n",
       "    <tr>\n",
       "      <th>7</th>\n",
       "      <td>462.58</td>\n",
       "      <td>590.53</td>\n",
       "      <td>806.14</td>\n",
       "      <td>48003.5</td>\n",
       "      <td>47622.4</td>\n",
       "      <td>47280.8</td>\n",
       "      <td>1.17</td>\n",
       "      <td>1.22</td>\n",
       "      <td>1.21</td>\n",
       "    </tr>\n",
       "    <tr>\n",
       "      <th>8</th>\n",
       "      <td>590.53</td>\n",
       "      <td>806.14</td>\n",
       "      <td>1042.88</td>\n",
       "      <td>47622.4</td>\n",
       "      <td>47280.8</td>\n",
       "      <td>46929.5</td>\n",
       "      <td>1.22</td>\n",
       "      <td>1.21</td>\n",
       "      <td>1.31</td>\n",
       "    </tr>\n",
       "    <tr>\n",
       "      <th>9</th>\n",
       "      <td>806.14</td>\n",
       "      <td>1042.88</td>\n",
       "      <td>1352.75</td>\n",
       "      <td>47280.8</td>\n",
       "      <td>46929.5</td>\n",
       "      <td>46646.0</td>\n",
       "      <td>1.21</td>\n",
       "      <td>1.31</td>\n",
       "      <td>1.35</td>\n",
       "    </tr>\n",
       "    <tr>\n",
       "      <th>10</th>\n",
       "      <td>1042.88</td>\n",
       "      <td>1352.75</td>\n",
       "      <td>1808.92</td>\n",
       "      <td>46929.5</td>\n",
       "      <td>46646.0</td>\n",
       "      <td>46372.7</td>\n",
       "      <td>1.31</td>\n",
       "      <td>1.35</td>\n",
       "      <td>1.46</td>\n",
       "    </tr>\n",
       "    <tr>\n",
       "      <th>11</th>\n",
       "      <td>1352.75</td>\n",
       "      <td>1808.92</td>\n",
       "      <td>1909.25</td>\n",
       "      <td>46646.0</td>\n",
       "      <td>46372.7</td>\n",
       "      <td>46143.7</td>\n",
       "      <td>1.35</td>\n",
       "      <td>1.46</td>\n",
       "      <td>1.47</td>\n",
       "    </tr>\n",
       "    <tr>\n",
       "      <th>12</th>\n",
       "      <td>1808.92</td>\n",
       "      <td>1909.25</td>\n",
       "      <td>2246.75</td>\n",
       "      <td>46372.7</td>\n",
       "      <td>46143.7</td>\n",
       "      <td>45962.9</td>\n",
       "      <td>1.46</td>\n",
       "      <td>1.47</td>\n",
       "      <td>1.44</td>\n",
       "    </tr>\n",
       "    <tr>\n",
       "      <th>13</th>\n",
       "      <td>1909.25</td>\n",
       "      <td>2246.75</td>\n",
       "      <td>2639.17</td>\n",
       "      <td>46143.7</td>\n",
       "      <td>45962.9</td>\n",
       "      <td>45778.5</td>\n",
       "      <td>1.47</td>\n",
       "      <td>1.44</td>\n",
       "      <td>1.46</td>\n",
       "    </tr>\n",
       "    <tr>\n",
       "      <th>14</th>\n",
       "      <td>2246.75</td>\n",
       "      <td>2639.17</td>\n",
       "      <td>3031.92</td>\n",
       "      <td>45962.9</td>\n",
       "      <td>45778.5</td>\n",
       "      <td>45633.6</td>\n",
       "      <td>1.44</td>\n",
       "      <td>1.46</td>\n",
       "      <td>1.53</td>\n",
       "    </tr>\n",
       "    <tr>\n",
       "      <th>15</th>\n",
       "      <td>2639.17</td>\n",
       "      <td>3031.92</td>\n",
       "      <td>3273.82</td>\n",
       "      <td>45778.5</td>\n",
       "      <td>45633.6</td>\n",
       "      <td>45553.0</td>\n",
       "      <td>1.46</td>\n",
       "      <td>1.53</td>\n",
       "      <td>1.51</td>\n",
       "    </tr>\n",
       "    <tr>\n",
       "      <th>16</th>\n",
       "      <td>3031.92</td>\n",
       "      <td>3273.82</td>\n",
       "      <td>3474.75</td>\n",
       "      <td>45633.6</td>\n",
       "      <td>45553.0</td>\n",
       "      <td>45426.2</td>\n",
       "      <td>1.53</td>\n",
       "      <td>1.51</td>\n",
       "      <td>1.50</td>\n",
       "    </tr>\n",
       "    <tr>\n",
       "      <th>17</th>\n",
       "      <td>3273.82</td>\n",
       "      <td>3474.75</td>\n",
       "      <td>4207.33</td>\n",
       "      <td>45553.0</td>\n",
       "      <td>45426.2</td>\n",
       "      <td>42928.9</td>\n",
       "      <td>1.51</td>\n",
       "      <td>1.50</td>\n",
       "      <td>1.51</td>\n",
       "    </tr>\n",
       "    <tr>\n",
       "      <th>18</th>\n",
       "      <td>3474.75</td>\n",
       "      <td>4207.33</td>\n",
       "      <td>5187.33</td>\n",
       "      <td>45426.2</td>\n",
       "      <td>42928.9</td>\n",
       "      <td>42760.5</td>\n",
       "      <td>1.50</td>\n",
       "      <td>1.51</td>\n",
       "      <td>1.47</td>\n",
       "    </tr>\n",
       "    <tr>\n",
       "      <th>19</th>\n",
       "      <td>4207.33</td>\n",
       "      <td>5187.33</td>\n",
       "      <td>7105.42</td>\n",
       "      <td>42928.9</td>\n",
       "      <td>42760.5</td>\n",
       "      <td>42584.5</td>\n",
       "      <td>1.51</td>\n",
       "      <td>1.47</td>\n",
       "      <td>1.37</td>\n",
       "    </tr>\n",
       "    <tr>\n",
       "      <th>20</th>\n",
       "      <td>5187.33</td>\n",
       "      <td>7105.42</td>\n",
       "      <td>8867.33</td>\n",
       "      <td>42760.5</td>\n",
       "      <td>42584.5</td>\n",
       "      <td>42386.4</td>\n",
       "      <td>1.47</td>\n",
       "      <td>1.37</td>\n",
       "      <td>1.30</td>\n",
       "    </tr>\n",
       "    <tr>\n",
       "      <th>21</th>\n",
       "      <td>7105.42</td>\n",
       "      <td>8867.33</td>\n",
       "      <td>10503.75</td>\n",
       "      <td>42584.5</td>\n",
       "      <td>42386.4</td>\n",
       "      <td>42153.2</td>\n",
       "      <td>1.37</td>\n",
       "      <td>1.30</td>\n",
       "      <td>1.23</td>\n",
       "    </tr>\n",
       "    <tr>\n",
       "      <th>22</th>\n",
       "      <td>8867.33</td>\n",
       "      <td>10503.75</td>\n",
       "      <td>11596.60</td>\n",
       "      <td>42386.4</td>\n",
       "      <td>42153.2</td>\n",
       "      <td>41902.4</td>\n",
       "      <td>1.30</td>\n",
       "      <td>1.23</td>\n",
       "      <td>1.22</td>\n",
       "    </tr>\n",
       "    <tr>\n",
       "      <th>23</th>\n",
       "      <td>10503.75</td>\n",
       "      <td>11596.60</td>\n",
       "      <td>9958.22</td>\n",
       "      <td>42153.2</td>\n",
       "      <td>41902.4</td>\n",
       "      <td>41588.4</td>\n",
       "      <td>1.23</td>\n",
       "      <td>1.22</td>\n",
       "      <td>1.20</td>\n",
       "    </tr>\n",
       "  </tbody>\n",
       "</table>\n",
       "</div>"
      ],
      "text/plain": [
       "           0         1         2        3        4        5     6     7     8\n",
       "0     125.23    143.09    152.83  51297.1  50818.4  50370.8  1.36  1.27  1.21\n",
       "1     143.09    152.83    177.39  50818.4  50370.8  49918.1  1.27  1.21  1.13\n",
       "2     152.83    177.39    231.04  50370.8  49918.1  49429.8  1.21  1.13  1.12\n",
       "3     177.39    231.04    311.62  49918.1  49429.8  48923.2  1.13  1.12  1.08\n",
       "4     231.04    311.62    375.98  49429.8  48923.2  48457.1  1.12  1.08  1.10\n",
       "5     311.62    375.98    462.58  48923.2  48457.1  48003.5  1.08  1.10  1.17\n",
       "6     375.98    462.58    590.53  48457.1  48003.5  47622.4  1.10  1.17  1.22\n",
       "7     462.58    590.53    806.14  48003.5  47622.4  47280.8  1.17  1.22  1.21\n",
       "8     590.53    806.14   1042.88  47622.4  47280.8  46929.5  1.22  1.21  1.31\n",
       "9     806.14   1042.88   1352.75  47280.8  46929.5  46646.0  1.21  1.31  1.35\n",
       "10   1042.88   1352.75   1808.92  46929.5  46646.0  46372.7  1.31  1.35  1.46\n",
       "11   1352.75   1808.92   1909.25  46646.0  46372.7  46143.7  1.35  1.46  1.47\n",
       "12   1808.92   1909.25   2246.75  46372.7  46143.7  45962.9  1.46  1.47  1.44\n",
       "13   1909.25   2246.75   2639.17  46143.7  45962.9  45778.5  1.47  1.44  1.46\n",
       "14   2246.75   2639.17   3031.92  45962.9  45778.5  45633.6  1.44  1.46  1.53\n",
       "15   2639.17   3031.92   3273.82  45778.5  45633.6  45553.0  1.46  1.53  1.51\n",
       "16   3031.92   3273.82   3474.75  45633.6  45553.0  45426.2  1.53  1.51  1.50\n",
       "17   3273.82   3474.75   4207.33  45553.0  45426.2  42928.9  1.51  1.50  1.51\n",
       "18   3474.75   4207.33   5187.33  45426.2  42928.9  42760.5  1.50  1.51  1.47\n",
       "19   4207.33   5187.33   7105.42  42928.9  42760.5  42584.5  1.51  1.47  1.37\n",
       "20   5187.33   7105.42   8867.33  42760.5  42584.5  42386.4  1.47  1.37  1.30\n",
       "21   7105.42   8867.33  10503.75  42584.5  42386.4  42153.2  1.37  1.30  1.23\n",
       "22   8867.33  10503.75  11596.60  42386.4  42153.2  41902.4  1.30  1.23  1.22\n",
       "23  10503.75  11596.60   9958.22  42153.2  41902.4  41588.4  1.23  1.22  1.20"
      ]
     },
     "execution_count": 33,
     "metadata": {},
     "output_type": "execute_result"
    }
   ],
   "source": [
    "X"
   ]
  },
  {
   "cell_type": "code",
   "execution_count": 34,
   "metadata": {},
   "outputs": [
    {
     "data": {
      "text/plain": [
       "0     49918.1\n",
       "1     49429.8\n",
       "2     48923.2\n",
       "3     48457.1\n",
       "4     48003.5\n",
       "5     47622.4\n",
       "6     47280.8\n",
       "7     46929.5\n",
       "8     46646.0\n",
       "9     46372.7\n",
       "10    46143.7\n",
       "11    45962.9\n",
       "12    45778.5\n",
       "13    45633.6\n",
       "14    45553.0\n",
       "15    45426.2\n",
       "16    42928.9\n",
       "17    42760.5\n",
       "18    42584.5\n",
       "19    42386.4\n",
       "20    42153.2\n",
       "21    41902.4\n",
       "22    41588.4\n",
       "23    41167.3\n",
       "dtype: float64"
      ]
     },
     "execution_count": 34,
     "metadata": {},
     "output_type": "execute_result"
    }
   ],
   "source": [
    "y"
   ]
  },
  {
   "cell_type": "code",
   "execution_count": 37,
   "metadata": {},
   "outputs": [
    {
     "data": {
      "image/png": "[encoded data removed]",
      "text/plain": [
       "<Figure size 432x288 with 1 Axes>"
      ]
     },
     "metadata": {
      "needs_background": "light"
     },
     "output_type": "display_data"
    }
   ],
   "source": [
    "lr_model = LinearRegression().fit(X, y)\n",
    "pred = lr_model.predict(X)\n",
    "\n",
    "plt.plot(population[\"year\"], population[\"population (thousands)\"])\n",
    "plt.plot(population[\"year\"].to_list()[3:], pred)\n",
    "plt.show()"
   ]
  },
  {
   "cell_type": "markdown",
   "metadata": {},
   "source": [
    "Data preparation before drediction."
   ]
  },
  {
   "cell_type": "markdown",
   "metadata": {},
   "source": [
    "Salary part"
   ]
  },
  {
   "cell_type": "code",
   "execution_count": 15,
   "metadata": {},
   "outputs": [
    {
     "data": {
      "text/html": [
       "<div>\n",
       "<style scoped>\n",
       "    .dataframe tbody tr th:only-of-type {\n",
       "        vertical-align: middle;\n",
       "    }\n",
       "\n",
       "    .dataframe tbody tr th {\n",
       "        vertical-align: top;\n",
       "    }\n",
       "\n",
       "    .dataframe thead th {\n",
       "        text-align: right;\n",
       "    }\n",
       "</style>\n",
       "<table border=\"1\" class=\"dataframe\">\n",
       "  <thead>\n",
       "    <tr style=\"text-align: right;\">\n",
       "      <th></th>\n",
       "      <th>0</th>\n",
       "      <th>1</th>\n",
       "      <th>2</th>\n",
       "    </tr>\n",
       "  </thead>\n",
       "  <tbody>\n",
       "    <tr>\n",
       "      <th>23</th>\n",
       "      <td>10503.75</td>\n",
       "      <td>11596.6</td>\n",
       "      <td>9958.22</td>\n",
       "    </tr>\n",
       "  </tbody>\n",
       "</table>\n",
       "</div>"
      ],
      "text/plain": [
       "           0        1        2\n",
       "23  10503.75  11596.6  9958.22"
      ]
     },
     "execution_count": 15,
     "metadata": {},
     "output_type": "execute_result"
    }
   ],
   "source": [
    "saved_salary_pred_X = [ salary_X.loc[[23]] ]\n",
    "pred_salary = []\n",
    "saved_salary_pred_X[-1]\n",
    "#saved_salary_pred_X[-1].index.to_list()[-1]"
   ]
  },
  {
   "cell_type": "code",
   "execution_count": 16,
   "metadata": {},
   "outputs": [
    {
     "data": {
      "text/plain": [
       "[11966.10652977638, 12531.244866729618, 12785.546515298849, 13895.544324790166]"
      ]
     },
     "execution_count": 16,
     "metadata": {},
     "output_type": "execute_result"
    }
   ],
   "source": [
    "for i in range(4):\n",
    "    pred_salary.append( mlp_salary_model.predict(saved_salary_pred_X[-1])[0] )\n",
    "    index = 23 if not i else 0\n",
    "    to_save = [ saved_salary_pred_X[-1].loc[index].to_list()[1:] + [mlp_salary_model.predict(saved_salary_pred_X[-1])[0]] ]\n",
    "    saved_salary_pred_X.append(pd.DataFrame(to_save))\n",
    "    \n",
    "pred_salary"
   ]
  },
  {
   "cell_type": "markdown",
   "metadata": {},
   "source": [
    "Population part"
   ]
  },
  {
   "cell_type": "code",
   "execution_count": 17,
   "metadata": {},
   "outputs": [
    {
     "data": {
      "text/html": [
       "<div>\n",
       "<style scoped>\n",
       "    .dataframe tbody tr th:only-of-type {\n",
       "        vertical-align: middle;\n",
       "    }\n",
       "\n",
       "    .dataframe tbody tr th {\n",
       "        vertical-align: top;\n",
       "    }\n",
       "\n",
       "    .dataframe thead th {\n",
       "        text-align: right;\n",
       "    }\n",
       "</style>\n",
       "<table border=\"1\" class=\"dataframe\">\n",
       "  <thead>\n",
       "    <tr style=\"text-align: right;\">\n",
       "      <th></th>\n",
       "      <th>0</th>\n",
       "      <th>1</th>\n",
       "      <th>2</th>\n",
       "    </tr>\n",
       "  </thead>\n",
       "  <tbody>\n",
       "    <tr>\n",
       "      <th>23</th>\n",
       "      <td>42153.2</td>\n",
       "      <td>41902.4</td>\n",
       "      <td>41588.4</td>\n",
       "    </tr>\n",
       "  </tbody>\n",
       "</table>\n",
       "</div>"
      ],
      "text/plain": [
       "          0        1        2\n",
       "23  42153.2  41902.4  41588.4"
      ]
     },
     "execution_count": 17,
     "metadata": {},
     "output_type": "execute_result"
    }
   ],
   "source": [
    "saved_population_pred_X = [ population_X.loc[[23]] ]\n",
    "pred_population = []\n",
    "saved_population_pred_X[-1]"
   ]
  },
  {
   "cell_type": "code",
   "execution_count": 18,
   "metadata": {},
   "outputs": [
    {
     "data": {
      "text/plain": [
       "[43385.49945844108, 44096.320488712685, 44926.56645453331, 45990.67163117838]"
      ]
     },
     "execution_count": 18,
     "metadata": {},
     "output_type": "execute_result"
    }
   ],
   "source": [
    "for i in range(4):\n",
    "    pred_population.append( lr_population_model.predict(saved_population_pred_X[-1])[0] )\n",
    "    index = 23 if not i else 0\n",
    "    to_save = [ saved_population_pred_X[-1].loc[index].to_list()[1:] + [lr_population_model.predict(saved_population_pred_X[-1])[0]] ]\n",
    "    saved_population_pred_X.append(pd.DataFrame(to_save))\n",
    "pred_population"
   ]
  },
  {
   "cell_type": "markdown",
   "metadata": {},
   "source": [
    "Fertility rate part"
   ]
  },
  {
   "cell_type": "code",
   "execution_count": 41,
   "metadata": {},
   "outputs": [
    {
     "data": {
      "text/html": [
       "<div>\n",
       "<style scoped>\n",
       "    .dataframe tbody tr th:only-of-type {\n",
       "        vertical-align: middle;\n",
       "    }\n",
       "\n",
       "    .dataframe tbody tr th {\n",
       "        vertical-align: top;\n",
       "    }\n",
       "\n",
       "    .dataframe thead th {\n",
       "        text-align: right;\n",
       "    }\n",
       "</style>\n",
       "<table border=\"1\" class=\"dataframe\">\n",
       "  <thead>\n",
       "    <tr style=\"text-align: right;\">\n",
       "      <th></th>\n",
       "      <th>0</th>\n",
       "      <th>1</th>\n",
       "      <th>2</th>\n",
       "    </tr>\n",
       "  </thead>\n",
       "  <tbody>\n",
       "    <tr>\n",
       "      <th>23</th>\n",
       "      <td>1.23</td>\n",
       "      <td>1.22</td>\n",
       "      <td>1.2</td>\n",
       "    </tr>\n",
       "  </tbody>\n",
       "</table>\n",
       "</div>"
      ],
      "text/plain": [
       "       0     1    2\n",
       "23  1.23  1.22  1.2"
      ]
     },
     "execution_count": 41,
     "metadata": {},
     "output_type": "execute_result"
    }
   ],
   "source": [
    "saved_fertility_rate_pred_X = [ fertility_rate_X.loc[[23]] ]\n",
    "pred_fertility_rate = []\n",
    "saved_fertility_rate_pred_X[-1]"
   ]
  },
  {
   "cell_type": "code",
   "execution_count": 42,
   "metadata": {},
   "outputs": [
    {
     "data": {
      "text/plain": [
       "[1.3573813940915473, 1.3839393699711806, 1.4143524241171228, 1.500339024848187]"
      ]
     },
     "execution_count": 42,
     "metadata": {},
     "output_type": "execute_result"
    }
   ],
   "source": [
    "for i in range(4):\n",
    "    pred_fertility_rate.append( lr_fertility_rate_model.predict(saved_fertility_rate_pred_X[-1])[0] )\n",
    "    index = 23 if not i else 0\n",
    "    to_save = [ saved_fertility_rate_pred_X[-1].loc[index].to_list()[1:] + [lr_fertility_rate_model.predict(saved_fertility_rate_pred_X[-1])[0]] ]\n",
    "    saved_fertility_rate_pred_X.append(pd.DataFrame(to_save))\n",
    "pred_fertility_rate"
   ]
  },
  {
   "cell_type": "markdown",
   "metadata": {},
   "source": [
    "Prediction"
   ]
  },
  {
   "cell_type": "code",
   "execution_count": 45,
   "metadata": {},
   "outputs": [
    {
     "data": {
      "text/html": [
       "<div>\n",
       "<style scoped>\n",
       "    .dataframe tbody tr th:only-of-type {\n",
       "        vertical-align: middle;\n",
       "    }\n",
       "\n",
       "    .dataframe tbody tr th {\n",
       "        vertical-align: top;\n",
       "    }\n",
       "\n",
       "    .dataframe thead th {\n",
       "        text-align: right;\n",
       "    }\n",
       "</style>\n",
       "<table border=\"1\" class=\"dataframe\">\n",
       "  <thead>\n",
       "    <tr style=\"text-align: right;\">\n",
       "      <th></th>\n",
       "      <th>0</th>\n",
       "      <th>1</th>\n",
       "      <th>2</th>\n",
       "      <th>3</th>\n",
       "      <th>4</th>\n",
       "      <th>5</th>\n",
       "      <th>6</th>\n",
       "      <th>7</th>\n",
       "      <th>8</th>\n",
       "    </tr>\n",
       "  </thead>\n",
       "  <tbody>\n",
       "    <tr>\n",
       "      <th>0</th>\n",
       "      <td>10503.750000</td>\n",
       "      <td>11596.600000</td>\n",
       "      <td>9958.220000</td>\n",
       "      <td>42153.200000</td>\n",
       "      <td>41902.400000</td>\n",
       "      <td>41588.400000</td>\n",
       "      <td>1.230000</td>\n",
       "      <td>1.220000</td>\n",
       "      <td>1.200000</td>\n",
       "    </tr>\n",
       "    <tr>\n",
       "      <th>1</th>\n",
       "      <td>11596.600000</td>\n",
       "      <td>9958.220000</td>\n",
       "      <td>11966.106530</td>\n",
       "      <td>41902.400000</td>\n",
       "      <td>41588.400000</td>\n",
       "      <td>43385.499458</td>\n",
       "      <td>1.220000</td>\n",
       "      <td>1.200000</td>\n",
       "      <td>1.357381</td>\n",
       "    </tr>\n",
       "    <tr>\n",
       "      <th>2</th>\n",
       "      <td>9958.220000</td>\n",
       "      <td>11966.106530</td>\n",
       "      <td>12531.244867</td>\n",
       "      <td>41588.400000</td>\n",
       "      <td>43385.499458</td>\n",
       "      <td>44096.320489</td>\n",
       "      <td>1.200000</td>\n",
       "      <td>1.357381</td>\n",
       "      <td>1.383939</td>\n",
       "    </tr>\n",
       "    <tr>\n",
       "      <th>3</th>\n",
       "      <td>11966.106530</td>\n",
       "      <td>12531.244867</td>\n",
       "      <td>12785.546515</td>\n",
       "      <td>43385.499458</td>\n",
       "      <td>44096.320489</td>\n",
       "      <td>44926.566455</td>\n",
       "      <td>1.357381</td>\n",
       "      <td>1.383939</td>\n",
       "      <td>1.414352</td>\n",
       "    </tr>\n",
       "    <tr>\n",
       "      <th>4</th>\n",
       "      <td>12531.244867</td>\n",
       "      <td>12785.546515</td>\n",
       "      <td>13895.544325</td>\n",
       "      <td>44096.320489</td>\n",
       "      <td>44926.566455</td>\n",
       "      <td>45990.671631</td>\n",
       "      <td>1.383939</td>\n",
       "      <td>1.414352</td>\n",
       "      <td>1.500339</td>\n",
       "    </tr>\n",
       "  </tbody>\n",
       "</table>\n",
       "</div>"
      ],
      "text/plain": [
       "              0             1             2             3             4  \\\n",
       "0  10503.750000  11596.600000   9958.220000  42153.200000  41902.400000   \n",
       "1  11596.600000   9958.220000  11966.106530  41902.400000  41588.400000   \n",
       "2   9958.220000  11966.106530  12531.244867  41588.400000  43385.499458   \n",
       "3  11966.106530  12531.244867  12785.546515  43385.499458  44096.320489   \n",
       "4  12531.244867  12785.546515  13895.544325  44096.320489  44926.566455   \n",
       "\n",
       "              5         6         7         8  \n",
       "0  41588.400000  1.230000  1.220000  1.200000  \n",
       "1  43385.499458  1.220000  1.200000  1.357381  \n",
       "2  44096.320489  1.200000  1.357381  1.383939  \n",
       "3  44926.566455  1.357381  1.383939  1.414352  \n",
       "4  45990.671631  1.383939  1.414352  1.500339  "
      ]
     },
     "execution_count": 45,
     "metadata": {},
     "output_type": "execute_result"
    }
   ],
   "source": [
    "pred_X = []\n",
    "for i in range(5):\n",
    "    index = 0 if i else 23\n",
    "    pred_X.append( saved_salary_pred_X[i].loc[index].to_list() + saved_population_pred_X[i].loc[index].to_list() + saved_fertility_rate_pred_X[i].loc[index].to_list() )\n",
    "pred_X = pd.DataFrame(pred_X)\n",
    "pred_X"
   ]
  },
  {
   "cell_type": "code",
   "execution_count": 46,
   "metadata": {},
   "outputs": [
    {
     "data": {
      "text/plain": [
       "array([40973.9887955 , 40071.00593752, 44075.87769818, 43480.60471761,\n",
       "       44234.87349313])"
      ]
     },
     "execution_count": 46,
     "metadata": {},
     "output_type": "execute_result"
    }
   ],
   "source": [
    "pred_polulation = lr_model.predict(pred_X)\n",
    "pred_polulation"
   ]
  },
  {
   "cell_type": "code",
   "execution_count": 47,
   "metadata": {},
   "outputs": [
    {
     "data": {
      "text/html": [
       "<div>\n",
       "<style scoped>\n",
       "    .dataframe tbody tr th:only-of-type {\n",
       "        vertical-align: middle;\n",
       "    }\n",
       "\n",
       "    .dataframe tbody tr th {\n",
       "        vertical-align: top;\n",
       "    }\n",
       "\n",
       "    .dataframe thead th {\n",
       "        text-align: right;\n",
       "    }\n",
       "</style>\n",
       "<table border=\"1\" class=\"dataframe\">\n",
       "  <thead>\n",
       "    <tr style=\"text-align: right;\">\n",
       "      <th></th>\n",
       "      <th>year</th>\n",
       "      <th>population</th>\n",
       "    </tr>\n",
       "  </thead>\n",
       "  <tbody>\n",
       "    <tr>\n",
       "      <th>0</th>\n",
       "      <td>2023</td>\n",
       "      <td>40973.988795</td>\n",
       "    </tr>\n",
       "    <tr>\n",
       "      <th>1</th>\n",
       "      <td>2024</td>\n",
       "      <td>40071.005938</td>\n",
       "    </tr>\n",
       "    <tr>\n",
       "      <th>2</th>\n",
       "      <td>2025</td>\n",
       "      <td>44075.877698</td>\n",
       "    </tr>\n",
       "    <tr>\n",
       "      <th>3</th>\n",
       "      <td>2026</td>\n",
       "      <td>43480.604718</td>\n",
       "    </tr>\n",
       "    <tr>\n",
       "      <th>4</th>\n",
       "      <td>2027</td>\n",
       "      <td>44234.873493</td>\n",
       "    </tr>\n",
       "  </tbody>\n",
       "</table>\n",
       "</div>"
      ],
      "text/plain": [
       "   year    population\n",
       "0  2023  40973.988795\n",
       "1  2024  40071.005938\n",
       "2  2025  44075.877698\n",
       "3  2026  43480.604718\n",
       "4  2027  44234.873493"
      ]
     },
     "execution_count": 47,
     "metadata": {},
     "output_type": "execute_result"
    }
   ],
   "source": [
    "predicted_population = pd.DataFrame()\n",
    "predicted_population[\"year\"] = [2023+i for i in range(5)]\n",
    "predicted_population[\"population\"] = pred_polulation\n",
    "predicted_population"
   ]
  },
  {
   "cell_type": "code",
   "execution_count": 51,
   "metadata": {},
   "outputs": [
    {
     "data": {
      "image/png": "[encoded data removed]",
      "text/plain": [
       "<Figure size 432x288 with 1 Axes>"
      ]
     },
     "metadata": {
      "needs_background": "light"
     },
     "output_type": "display_data"
    }
   ],
   "source": [
    "lr_model = LinearRegression().fit(X, y)\n",
    "pred = lr_model.predict(pred_X)\n",
    "\n",
    "plt.plot(np.array(population[\"year\"])-np.ones(len(population[\"year\"])), population[\"population (thousands)\"])\n",
    "plt.plot(population[\"year\"].to_list() + [2023+i for i in range(5)], population[\"population (thousands)\"].to_list() + pred.tolist())\n",
    "plt.show()"
   ]
  },
  {
   "cell_type": "code",
   "execution_count": 22,
   "metadata": {},
   "outputs": [],
   "source": [
    "predicted_population.to_csv(\"predicted_population.csv\")"
   ]
  },
  {
   "cell_type": "code",
   "execution_count": null,
   "metadata": {},
   "outputs": [],
   "source": []
  }
 ],
 "metadata": {
  "kernelspec": {
   "display_name": "Python 3 (ipykernel)",
   "language": "python",
   "name": "python3"
  },
  "language_info": {
   "codemirror_mode": {
    "name": "ipython",
    "version": 3
   },
   "file_extension": ".py",
   "mimetype": "text/x-python",
   "name": "python",
   "nbconvert_exporter": "python",
   "pygments_lexer": "ipython3",
   "version": "3.9.7"
  }
 },
 "nbformat": 4,
 "nbformat_minor": 4
}
