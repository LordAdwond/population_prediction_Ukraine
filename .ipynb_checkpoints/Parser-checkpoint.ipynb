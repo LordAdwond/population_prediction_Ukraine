{
 "cells": [
  {
   "cell_type": "code",
   "execution_count": 16,
   "metadata": {},
   "outputs": [],
   "source": [
    "import pandas as pd\n",
    "import numpy as np\n",
    "from bs4 import BeautifulSoup\n",
    "import requests"
   ]
  },
  {
   "cell_type": "code",
   "execution_count": 17,
   "metadata": {},
   "outputs": [],
   "source": [
    "def get_html(url):\n",
    "    return requests.get(url).text\n",
    "def get_data(url):\n",
    "    return BeautifulSoup(get_html(url), 'lxml')"
   ]
  },
  {
   "cell_type": "markdown",
   "metadata": {},
   "source": [
    "Population data"
   ]
  },
  {
   "cell_type": "code",
   "execution_count": 18,
   "metadata": {},
   "outputs": [],
   "source": [
    "population_data = get_data(\"https://index.minfin.com.ua/reference/people/\")"
   ]
  },
  {
   "cell_type": "code",
   "execution_count": 19,
   "metadata": {},
   "outputs": [],
   "source": [
    "table = population_data.find_all(\"table\")[1]"
   ]
  },
  {
   "cell_type": "code",
   "execution_count": 20,
   "metadata": {},
   "outputs": [
    {
     "name": "stdout",
     "output_type": "stream",
     "text": [
      "<class 'bs4.element.Tag'>\n"
     ]
    }
   ],
   "source": [
    "print(type(table))"
   ]
  },
  {
   "cell_type": "code",
   "execution_count": 21,
   "metadata": {},
   "outputs": [
    {
     "name": "stdout",
     "output_type": "stream",
     "text": [
      "<table border=\"0\" cellpadding=\"3\" cellspacing=\"0\" class=\"line\">\n",
      "<caption>Численность населения Украины с 1990 по 2022 гг.<br/><small class=\"normal sans\">(численность на 2002 год приведена на основании данных Всеукраинской переписи населения – декабрь 2001)</small></caption>\n",
      "<tr><th align=\"center\">Дата</th><th colspan=\"3\">Численность <span class=\"normal\">(тыс.)</span></th></tr>\n",
      "<tr><td align=\"center\"><small>на</small> 1.01.1990</td><td align=\"right\"><big>51 838,5</big></td><td align=\"right\"><small class=\"grey\"><br/></small></td><td align=\"right\"><small class=\"grey\"><br/></small></td></tr>\n",
      "<tr><td align=\"center\"><small>на</small> 1.01.1991</td><td align=\"right\"><big>51 944,4</big></td><td align=\"right\"><small class=\"d-positive\">105.9</small></td><td align=\"right\"><small class=\"d-positive\">0.20%</small></td></tr>\n",
      "<tr><td align=\"center\"><small>на</small> 1.01.1992</td><td align=\"right\"><big>52 056,6</big></td><td align=\"right\"><small class=\"d-positive\">112.2</small></td><td align=\"right\"><small class=\"d-positive\">0.22%</small></td></tr>\n",
      "<tr><td align=\"center\"><small>на</small> 1.01.1993</td><td align=\"right\"><big>52 244,1</big></td><td align=\"right\"><small class=\"d-positive\">187.5</small></td><td align=\"right\"><small class=\"d-positive\">0.36%</small></td></tr>\n",
      "<tr><td align=\"center\"><small>на</small> 1.01.1994</td><td align=\"right\"><big>52 114,4</big></td><td align=\"right\"><small class=\"d-negative\">-129.7</small></td><td align=\"right\"><small class=\"d-negative\">-0.25%</small></td></tr>\n",
      "<tr><td align=\"center\"><small>на</small> 1.01.1995</td><td align=\"right\"><big>51 728,4</big></td><td align=\"right\"><small class=\"d-negative\">-386.0</small></td><td align=\"right\"><small class=\"d-negative\">-0.74%</small></td></tr>\n",
      "<tr><td align=\"center\"><small>на</small> 1.01.1996</td><td align=\"right\"><big>51 297,1</big></td><td align=\"right\"><small class=\"d-negative\">-431.3</small></td><td align=\"right\"><small class=\"d-negative\">-0.83%</small></td></tr>\n",
      "<tr><td align=\"center\"><small>на</small> 1.01.1997</td><td align=\"right\"><big>50 818,4</big></td><td align=\"right\"><small class=\"d-negative\">-478.7</small></td><td align=\"right\"><small class=\"d-negative\">-0.93%</small></td></tr>\n",
      "<tr><td align=\"center\"><small>на</small> 1.01.1998</td><td align=\"right\"><big>50 370,8</big></td><td align=\"right\"><small class=\"d-negative\">-447.6</small></td><td align=\"right\"><small class=\"d-negative\">-0.88%</small></td></tr>\n",
      "<tr><td align=\"center\"><small>на</small> 1.01.1999</td><td align=\"right\"><big>49 918,1</big></td><td align=\"right\"><small class=\"d-negative\">-452.7</small></td><td align=\"right\"><small class=\"d-negative\">-0.90%</small></td></tr>\n",
      "<tr><td align=\"center\"><small>на</small> 1.01.2000</td><td align=\"right\"><big>49 429,8</big></td><td align=\"right\"><small class=\"d-negative\">-488.3</small></td><td align=\"right\"><small class=\"d-negative\">-0.98%</small></td></tr>\n",
      "<tr><td align=\"center\"><small>на</small> 1.01.2001</td><td align=\"right\"><big>48 923,2</big></td><td align=\"right\"><small class=\"d-negative\">-506.6</small></td><td align=\"right\"><small class=\"d-negative\">-1.02%</small></td></tr>\n",
      "<tr><td align=\"center\"><small>на</small> 1.01.2002</td><td align=\"right\"><big>48 457,1</big></td><td align=\"right\"><small class=\"d-negative\">-466.1</small></td><td align=\"right\"><small class=\"d-negative\">-0.95%</small></td></tr>\n",
      "<tr><td align=\"center\"><small>на</small> 1.01.2003</td><td align=\"right\"><big>48 003,5</big></td><td align=\"right\"><small class=\"d-negative\">-453.6</small></td><td align=\"right\"><small class=\"d-negative\">-0.94%</small></td></tr>\n",
      "<tr><td align=\"center\"><small>на</small> 1.01.2004</td><td align=\"right\"><big>47 622,4</big></td><td align=\"right\"><small class=\"d-negative\">-381.1</small></td><td align=\"right\"><small class=\"d-negative\">-0.79%</small></td></tr>\n",
      "<tr><td align=\"center\"><small>на</small> 1.01.2005</td><td align=\"right\"><big>47 280,8</big></td><td align=\"right\"><small class=\"d-negative\">-341.6</small></td><td align=\"right\"><small class=\"d-negative\">-0.72%</small></td></tr>\n",
      "<tr><td align=\"center\"><small>на</small> 1.01.2006</td><td align=\"right\"><big>46 929,5</big></td><td align=\"right\"><small class=\"d-negative\">-351.3</small></td><td align=\"right\"><small class=\"d-negative\">-0.74%</small></td></tr>\n",
      "<tr><td align=\"center\"><small>на</small> 1.01.2007</td><td align=\"right\"><big>46 646,0</big></td><td align=\"right\"><small class=\"d-negative\">-283.5</small></td><td align=\"right\"><small class=\"d-negative\">-0.60%</small></td></tr>\n",
      "<tr><td align=\"center\"><small>на</small> 1.01.2008</td><td align=\"right\"><big>46 372,7</big></td><td align=\"right\"><small class=\"d-negative\">-273.3</small></td><td align=\"right\"><small class=\"d-negative\">-0.59%</small></td></tr>\n",
      "<tr><td align=\"center\"><small>на</small> 1.01.2009</td><td align=\"right\"><big>46 143,7</big></td><td align=\"right\"><small class=\"d-negative\">-229.0</small></td><td align=\"right\"><small class=\"d-negative\">-0.49%</small></td></tr>\n",
      "<tr><td align=\"center\"><small>на</small> 1.01.2010</td><td align=\"right\"><big>45 962,9</big></td><td align=\"right\"><small class=\"d-negative\">-180.8</small></td><td align=\"right\"><small class=\"d-negative\">-0.39%</small></td></tr>\n",
      "<tr><td align=\"center\"><small>на</small> 1.01.2011</td><td align=\"right\"><big>45 778,5</big></td><td align=\"right\"><small class=\"d-negative\">-184.4</small></td><td align=\"right\"><small class=\"d-negative\">-0.40%</small></td></tr>\n",
      "<tr><td align=\"center\"><small>на</small> 1.01.2012</td><td align=\"right\"><big>45 633,6</big></td><td align=\"right\"><small class=\"d-negative\">-144.9</small></td><td align=\"right\"><small class=\"d-negative\">-0.32%</small></td></tr>\n",
      "<tr><td align=\"center\"><small>на</small> 1.01.2013</td><td align=\"right\"><big>45 553,0</big></td><td align=\"right\"><small class=\"d-negative\">-80.6</small></td><td align=\"right\"><small class=\"d-negative\">-0.18%</small></td></tr>\n",
      "<tr><td align=\"center\"><small>на</small> 1.01.2014</td><td align=\"right\"><big>45 426,2</big></td><td align=\"right\"><small class=\"d-negative\">-126.8</small></td><td align=\"right\"><small class=\"d-negative\">-0.28%</small></td></tr>\n",
      "<tr><td align=\"center\"><small>на</small> 1.01.2015</td><td align=\"right\"><big>42 928,9</big></td><td align=\"right\"><small class=\"d-negative\">-2497.3</small></td><td align=\"right\"><small class=\"d-negative\">-5.50%</small></td></tr>\n",
      "<tr><td align=\"center\"><small>на</small> 1.01.2016</td><td align=\"right\"><big>42 760,5</big></td><td align=\"right\"><small class=\"d-negative\">-168.4</small></td><td align=\"right\"><small class=\"d-negative\">-0.39%</small></td></tr>\n",
      "<tr><td align=\"center\"><small>на</small> 1.01.2017</td><td align=\"right\"><big>42 584,5</big></td><td align=\"right\"><small class=\"d-negative\">-176.0</small></td><td align=\"right\"><small class=\"d-negative\">-0.41%</small></td></tr>\n",
      "<tr><td align=\"center\"><small>на</small> 1.01.2018</td><td align=\"right\"><big>42 386,4</big></td><td align=\"right\"><small class=\"d-negative\">-198.1</small></td><td align=\"right\"><small class=\"d-negative\">-0.47%</small></td></tr>\n",
      "<tr><td align=\"center\"><small>на</small> 1.01.2019</td><td align=\"right\"><big>42 153,2</big></td><td align=\"right\"><small class=\"d-negative\">-233.2</small></td><td align=\"right\"><small class=\"d-negative\">-0.55%</small></td></tr>\n",
      "<tr><td align=\"center\"><small>на</small> 1.01.2020</td><td align=\"right\"><big>41 902,4</big></td><td align=\"right\"><small class=\"d-negative\">-250.8</small></td><td align=\"right\"><small class=\"d-negative\">-0.59%</small></td></tr>\n",
      "<tr><td align=\"center\"><small>на</small> 1.01.2021</td><td align=\"right\"><big>41 588,4</big></td><td align=\"right\"><small class=\"d-negative\">-314.1</small></td><td align=\"right\"><small class=\"d-negative\">-0.75%</small></td></tr>\n",
      "<tr><td align=\"center\"><small>на</small> 1.01.2022</td><td align=\"right\"><big>41 167,3</big></td><td align=\"right\"><small class=\"d-negative\">-421.0</small></td><td align=\"right\"><small class=\"d-negative\">-1.01%</small></td></tr>\n",
      "</table>\n"
     ]
    }
   ],
   "source": [
    "print(table)"
   ]
  },
  {
   "cell_type": "code",
   "execution_count": 22,
   "metadata": {},
   "outputs": [
    {
     "data": {
      "text/plain": [
       "[51838.5,\n",
       " 51944.4,\n",
       " 52056.6,\n",
       " 52244.1,\n",
       " 52114.4,\n",
       " 51728.4,\n",
       " 51297.1,\n",
       " 50818.4,\n",
       " 50370.8,\n",
       " 49918.1,\n",
       " 49429.8,\n",
       " 48923.2,\n",
       " 48457.1,\n",
       " 48003.5,\n",
       " 47622.4,\n",
       " 47280.8,\n",
       " 46929.5,\n",
       " 46646.0,\n",
       " 46372.7,\n",
       " 46143.7,\n",
       " 45962.9,\n",
       " 45778.5,\n",
       " 45633.6,\n",
       " 45553.0,\n",
       " 45426.2,\n",
       " 42928.9,\n",
       " 42760.5,\n",
       " 42584.5,\n",
       " 42386.4,\n",
       " 42153.2,\n",
       " 41902.4,\n",
       " 41588.4,\n",
       " 41167.3]"
      ]
     },
     "execution_count": 22,
     "metadata": {},
     "output_type": "execute_result"
    }
   ],
   "source": [
    "population = [float(value.text.replace(\",\", \".\")[:2]+value.text.replace(\",\", \".\")[3:]) for value in table.find_all(\"big\")]\n",
    "population"
   ]
  },
  {
   "cell_type": "code",
   "execution_count": 23,
   "metadata": {},
   "outputs": [
    {
     "data": {
      "text/html": [
       "<div>\n",
       "<style scoped>\n",
       "    .dataframe tbody tr th:only-of-type {\n",
       "        vertical-align: middle;\n",
       "    }\n",
       "\n",
       "    .dataframe tbody tr th {\n",
       "        vertical-align: top;\n",
       "    }\n",
       "\n",
       "    .dataframe thead th {\n",
       "        text-align: right;\n",
       "    }\n",
       "</style>\n",
       "<table border=\"1\" class=\"dataframe\">\n",
       "  <thead>\n",
       "    <tr style=\"text-align: right;\">\n",
       "      <th></th>\n",
       "      <th>year</th>\n",
       "      <th>population (thousands)</th>\n",
       "    </tr>\n",
       "  </thead>\n",
       "  <tbody>\n",
       "    <tr>\n",
       "      <th>0</th>\n",
       "      <td>1990</td>\n",
       "      <td>51838.5</td>\n",
       "    </tr>\n",
       "    <tr>\n",
       "      <th>1</th>\n",
       "      <td>1991</td>\n",
       "      <td>51944.4</td>\n",
       "    </tr>\n",
       "    <tr>\n",
       "      <th>2</th>\n",
       "      <td>1992</td>\n",
       "      <td>52056.6</td>\n",
       "    </tr>\n",
       "    <tr>\n",
       "      <th>3</th>\n",
       "      <td>1993</td>\n",
       "      <td>52244.1</td>\n",
       "    </tr>\n",
       "    <tr>\n",
       "      <th>4</th>\n",
       "      <td>1994</td>\n",
       "      <td>52114.4</td>\n",
       "    </tr>\n",
       "  </tbody>\n",
       "</table>\n",
       "</div>"
      ],
      "text/plain": [
       "   year  population (thousands)\n",
       "0  1990                 51838.5\n",
       "1  1991                 51944.4\n",
       "2  1992                 52056.6\n",
       "3  1993                 52244.1\n",
       "4  1994                 52114.4"
      ]
     },
     "execution_count": 23,
     "metadata": {},
     "output_type": "execute_result"
    }
   ],
   "source": [
    "population_data = pd.DataFrame()\n",
    "population_data[\"year\"] = [1990+i for i in range(len(population))]\n",
    "population_data[\"population (thousands)\"] = population\n",
    "population_data.head()"
   ]
  },
  {
   "cell_type": "code",
   "execution_count": 24,
   "metadata": {},
   "outputs": [],
   "source": [
    "population_data.to_csv(\"population_info_primary.csv\")"
   ]
  },
  {
   "cell_type": "markdown",
   "metadata": {},
   "source": [
    "Mean salary by year in gryvnias."
   ]
  },
  {
   "cell_type": "code",
   "execution_count": 25,
   "metadata": {},
   "outputs": [],
   "source": [
    "salary_data = get_data(\"https://uk.wikipedia.org/wiki/Середня_заробітна_плата_в_Україні\").find_all(\"table\")\n",
    "salary_data = salary_data[-1]"
   ]
  },
  {
   "cell_type": "code",
   "execution_count": 26,
   "metadata": {},
   "outputs": [
    {
     "name": "stdout",
     "output_type": "stream",
     "text": [
      "[<td>1992\n",
      "</td>, <td>5832,88<span style=\"color: #0c0; font-size: 90%;\">▲</span>\n",
      "</td>, <td>28,04<span style=\"color: red; font-size: 90%;\">▼</span>\n",
      "</td>, <td>1015,67<span style=\"color: #0c0; font-size: 90%;\">▲</span>\n",
      "</td>, <td>—\n",
      "</td>, <td>1993\n",
      "</td>, <td>163533<span style=\"color: #0c0; font-size: 90%;\">▲</span>\n",
      "</td>, <td>36,03<span style=\"color: #0c0; font-size: 90%;\">▲</span>\n",
      "</td>, <td>430,42<span style=\"color: red; font-size: 90%;\">▼</span>\n",
      "</td>, <td>—\n",
      "</td>, <td>1994\n",
      "</td>, <td>1426343<span style=\"color: #0c0; font-size: 90%;\">▲</span>\n",
      "</td>, <td>44,99<span style=\"color: #0c0; font-size: 90%;\">▲</span>\n",
      "</td>, <td>372,76<span style=\"color: red; font-size: 90%;\">▼</span>\n",
      "</td>, <td>—\n",
      "</td>, <td>1995\n",
      "</td>, <td>7304000<span style=\"color: #0c0; font-size: 90%;\">▲</span>\n",
      "</td>, <td>49,53<span style=\"color: #0c0; font-size: 90%;\">▲</span>\n",
      "</td>, <td>201,76<span style=\"color: red; font-size: 90%;\">▼</span>\n",
      "</td>, <td>—\n",
      "</td>, <td>1996\n",
      "</td>, <td>125,23<span style=\"color: red; font-size: 90%;\">▼</span>\n",
      "</td>, <td>68,45<span style=\"color: #0c0; font-size: 90%;\">▲</span>\n",
      "</td>, <td>198,62<span style=\"color: red; font-size: 90%;\">▼</span>\n",
      "</td>, <td>—\n",
      "</td>, <td>1997\n",
      "</td>, <td>143,09<span style=\"color: #0c0; font-size: 90%;\">▲</span>\n",
      "</td>, <td>76,86<span style=\"color: #0c0; font-size: 90%;\">▲</span>\n",
      "</td>, <td>211,13<span style=\"color: #0c0; font-size: 90%;\">▲</span>\n",
      "</td>, <td>20<sup class=\"reference\" id=\"cite_ref-21\"><a href=\"#cite_note-21\">[21]</a></sup>\n",
      "</td>, <td>1998\n",
      "</td>, <td>152,83<span style=\"color: #0c0; font-size: 90%;\">▲</span>\n",
      "</td>, <td>62,39<span style=\"color: red; font-size: 90%;\">▼</span>\n",
      "</td>, <td>177,69<span style=\"color: red; font-size: 90%;\">▼</span>\n",
      "</td>, <td>н.д.\n",
      "</td>, <td>1999\n",
      "</td>, <td>177,39<span style=\"color: #0c0; font-size: 90%;\">▲</span>\n",
      "</td>, <td>42,95<span style=\"color: red; font-size: 90%;\">▼</span>\n",
      "</td>, <td>180,68<span style=\"color: #0c0; font-size: 90%;\">▲</span>\n",
      "</td>, <td>24<span style=\"color: #0c0; font-size: 90%;\">▲</span><sup class=\"reference\" id=\"cite_ref-22\"><a href=\"#cite_note-22\">[22]</a></sup>\n",
      "</td>, <td>2000\n",
      "</td>, <td>231,04<span style=\"color: #0c0; font-size: 90%;\">▲</span>\n",
      "</td>, <td>42,47<span style=\"color: red; font-size: 90%;\">▼</span>\n",
      "</td>, <td>117,51<span style=\"color: red; font-size: 90%;\">▼</span>\n",
      "</td>, <td>н.д.\n",
      "</td>, <td>2001\n",
      "</td>, <td>311,62<span style=\"color: #0c0; font-size: 90%;\">▲</span>\n",
      "</td>, <td>58,01<span style=\"color: #0c0; font-size: 90%;\">▲</span>\n",
      "</td>, <td>153,57<span style=\"color: #0c0; font-size: 90%;\">▲</span>\n",
      "</td>, <td>50<span style=\"color: #0c0; font-size: 90%;\">▲</span><sup class=\"reference\" id=\"cite_ref-23\"><a href=\"#cite_note-23\">[23]</a></sup>\n",
      "</td>, <td>2002\n",
      "</td>, <td>375,98<span style=\"color: #0c0; font-size: 90%;\">▲</span>\n",
      "</td>, <td>70,59<span style=\"color: #0c0; font-size: 90%;\">▲</span>\n",
      "</td>, <td>213,84<span style=\"color: #0c0; font-size: 90%;\">▲</span>\n",
      "</td>, <td>н.д.\n",
      "</td>, <td>2003\n",
      "</td>, <td>462,58<span style=\"color: #0c0; font-size: 90%;\">▲</span>\n",
      "</td>, <td>86,74<span style=\"color: #0c0; font-size: 90%;\">▲</span>\n",
      "</td>, <td>276,27<span style=\"color: #0c0; font-size: 90%;\">▲</span>\n",
      "</td>, <td>н.д.\n",
      "</td>, <td>2004\n",
      "</td>, <td>590,53<span style=\"color: #0c0; font-size: 90%;\">▲</span>\n",
      "</td>, <td>111,02<span style=\"color: #0c0; font-size: 90%;\">▲</span>\n",
      "</td>, <td>276,06<span style=\"color: red; font-size: 90%;\">▼</span>\n",
      "</td>, <td>81<span style=\"color: #0c0; font-size: 90%;\">▲</span>\n",
      "</td>, <td>2005\n",
      "</td>, <td>806,14<span style=\"color: #0c0; font-size: 90%;\">▲</span>\n",
      "</td>, <td>157,30<span style=\"color: #0c0; font-size: 90%;\">▲</span>\n",
      "</td>, <td>332,05<span style=\"color: #0c0; font-size: 90%;\">▲</span>\n",
      "</td>, <td>111<span style=\"color: #0c0; font-size: 90%;\">▲</span>\n",
      "</td>, <td>2006\n",
      "</td>, <td>1042,88<span style=\"color: #0c0; font-size: 90%;\">▲</span>\n",
      "</td>, <td>206,51<span style=\"color: #0c0; font-size: 90%;\">▲</span>\n",
      "</td>, <td>441,28<span style=\"color: #0c0; font-size: 90%;\">▲</span>\n",
      "</td>, <td>123<span style=\"color: #0c0; font-size: 90%;\">▲</span>\n",
      "</td>, <td>2007\n",
      "</td>, <td>1352,75<span style=\"color: #0c0; font-size: 90%;\">▲</span>\n",
      "</td>, <td>267,87<span style=\"color: #0c0; font-size: 90%;\">▲</span>\n",
      "</td>, <td>498,66<span style=\"color: #0c0; font-size: 90%;\">▲</span>\n",
      "</td>, <td>146<span style=\"color: #0c0; font-size: 90%;\">▲</span>\n",
      "</td>, <td>2008\n",
      "</td>, <td>1808,92<span style=\"color: #0c0; font-size: 90%;\">▲</span>\n",
      "</td>, <td>343,43<span style=\"color: #0c0; font-size: 90%;\">▲</span>\n",
      "</td>, <td>585,00<span style=\"color: #0c0; font-size: 90%;\">▲</span>\n",
      "</td>, <td>164<span style=\"color: #0c0; font-size: 90%;\">▲</span>\n",
      "</td>, <td>2009\n",
      "</td>, <td>1909,25<span style=\"color: #0c0; font-size: 90%;\">▲</span>\n",
      "</td>, <td>245,05<span style=\"color: red; font-size: 90%;\">▼</span>\n",
      "</td>, <td>497,02<span style=\"color: red; font-size: 90%;\">▼</span>\n",
      "</td>, <td>136<span style=\"color: red; font-size: 90%;\">▼</span>\n",
      "</td>, <td>2010\n",
      "</td>, <td>2246,75<span style=\"color: #0c0; font-size: 90%;\">▲</span>\n",
      "</td>, <td>283,12<span style=\"color: #0c0; font-size: 90%;\">▲</span>\n",
      "</td>, <td>527,82<span style=\"color: #0c0; font-size: 90%;\">▲</span>\n",
      "</td>, <td>155<span style=\"color: #0c0; font-size: 90%;\">▲</span>\n",
      "</td>, <td>2011\n",
      "</td>, <td>2639,17<span style=\"color: #0c0; font-size: 90%;\">▲</span>\n",
      "</td>, <td>331,24<span style=\"color: #0c0; font-size: 90%;\">▲</span>\n",
      "</td>, <td>564,37<span style=\"color: #0c0; font-size: 90%;\">▲</span>\n",
      "</td>, <td>160<span style=\"color: #0c0; font-size: 90%;\">▲</span>\n",
      "</td>, <td>2012\n",
      "</td>, <td>3031,92<span style=\"color: #0c0; font-size: 90%;\">▲</span>\n",
      "</td>, <td>379,42<span style=\"color: #0c0; font-size: 90%;\">▲</span>\n",
      "</td>, <td>585,38<span style=\"color: #0c0; font-size: 90%;\">▲</span>\n",
      "</td>, <td>202<span style=\"color: #0c0; font-size: 90%;\">▲</span>\n",
      "</td>, <td>2013\n",
      "</td>, <td>3273,82<span style=\"color: #0c0; font-size: 90%;\">▲</span>\n",
      "</td>, <td>409,59<span style=\"color: #0c0; font-size: 90%;\">▲</span>\n",
      "</td>, <td>625,00<span style=\"color: #0c0; font-size: 90%;\">▲</span>\n",
      "</td>, <td>172<span style=\"color: red; font-size: 90%;\">▼</span>\n",
      "</td>, <td>2014\n",
      "</td>, <td>3474,75<span style=\"color: #0c0; font-size: 90%;\">▲</span>\n",
      "</td>, <td>292,32<span style=\"color: red; font-size: 90%;\">▼</span>\n",
      "</td>, <td>642,39<span style=\"color: #0c0; font-size: 90%;\">▲</span>\n",
      "</td>, <td>182<span style=\"color: #0c0; font-size: 90%;\">▲</span>\n",
      "</td>, <td>2015\n",
      "</td>, <td>4207,33<span style=\"color: #0c0; font-size: 90%;\">▲</span>\n",
      "</td>, <td>162,60<span style=\"color: red; font-size: 90%;\">▼</span>\n",
      "</td>, <td>517,22<span style=\"color: red; font-size: 90%;\">▼</span>\n",
      "</td>, <td>124<span style=\"color: red; font-size: 90%;\">▼</span>\n",
      "</td>, <td>2016\n",
      "</td>, <td>5187,33<span style=\"color: #0c0; font-size: 90%;\">▲</span>\n",
      "</td>, <td>203,02<span style=\"color: #0c0; font-size: 90%;\">▲</span>\n",
      "</td>, <td>441,05<span style=\"color: red; font-size: 90%;\">▼</span>\n",
      "</td>, <td>133<span style=\"color: #0c0; font-size: 90%;\">▲</span>\n",
      "</td>, <td>2017\n",
      "</td>, <td>7105,42<span style=\"color: #0c0; font-size: 90%;\">▲</span>\n",
      "</td>, <td>267,16<span style=\"color: #0c0; font-size: 90%;\">▲</span>\n",
      "</td>, <td>450,35<span style=\"color: #0c0; font-size: 90%;\">▲</span>\n",
      "</td>, <td>161<span style=\"color: #0c0; font-size: 90%;\">▲</span>\n",
      "</td>, <td>2018\n",
      "</td>, <td>8867,33<span style=\"color: #0c0; font-size: 90%;\">▲</span>\n",
      "</td>, <td>325,99<span style=\"color: #0c0; font-size: 90%;\">▲</span>\n",
      "</td>, <td>497,05<span style=\"color: #0c0; font-size: 90%;\">▲</span>\n",
      "</td>, <td>177<span style=\"color: #0c0; font-size: 90%;\">▲</span>\n",
      "</td>, <td>2019\n",
      "</td>, <td>10503,75<span style=\"color: #0c0; font-size: 90%;\">▲</span>\n",
      "</td>, <td>406,40<span style=\"color: #0c0; font-size: 90%;\">▲</span>\n",
      "</td>, <td>528,09<span style=\"color: #0c0; font-size: 90%;\">▲</span>\n",
      "</td>, <td>184<span style=\"color: #0c0; font-size: 90%;\">▲</span>\n",
      "</td>, <td>2020\n",
      "</td>, <td>11596,60<span style=\"color: #0c0; font-size: 90%;\">▲</span>\n",
      "</td>, <td>430,21<span style=\"color: #0c0; font-size: 90%;\">▲</span>\n",
      "</td>, <td>549,08<span style=\"color: #0c0; font-size: 90%;\">▲</span>\n",
      "</td>, <td>187<span style=\"color: #0c0; font-size: 90%;\">▲</span>\n",
      "</td>]\n"
     ]
    }
   ],
   "source": [
    "tds = salary_data.find_all(\"td\")\n",
    "print( tds )"
   ]
  },
  {
   "cell_type": "code",
   "execution_count": 32,
   "metadata": {},
   "outputs": [
    {
     "name": "stdout",
     "output_type": "stream",
     "text": [
      "['125.23▼\\n', '143.09▲\\n', '152.83▲\\n', '177.39▲\\n', '231.04▲\\n', '311.62▲\\n', '375.98▲\\n', '462.58▲\\n', '590.53▲\\n', '806.14▲\\n', '1042.88▲\\n', '1352.75▲\\n', '1808.92▲\\n', '1909.25▲\\n', '2246.75▲\\n', '2639.17▲\\n', '3031.92▲\\n', '3273.82▲\\n', '3474.75▲\\n', '4207.33▲\\n', '5187.33▲\\n', '7105.42▲\\n', '8867.33▲\\n', '10503.75▲\\n', '11596.60▲\\n']\n"
     ]
    }
   ],
   "source": [
    "mid_salary = [ tds[i].text.replace(\",\", \".\") for i in range(len(tds)-1) if i%5==1 ][4:]\n",
    "print(mid_salary)"
   ]
  },
  {
   "cell_type": "code",
   "execution_count": 33,
   "metadata": {},
   "outputs": [
    {
     "name": "stdout",
     "output_type": "stream",
     "text": [
      "[125.23, 143.09, 152.83, 177.39, 231.04, 311.62, 375.98, 462.58, 590.53, 806.14, 1042.88, 1352.75, 1808.92, 1909.25, 2246.75, 2639.17, 3031.92, 3273.82, 3474.75, 4207.33, 5187.33, 7105.42, 8867.33, 10503.75, 11596.6]\n"
     ]
    }
   ],
   "source": [
    "mid_salary = [ float(((v[::-1])[2:])[::-1]) for v in mid_salary ]\n",
    "print(mid_salary)"
   ]
  },
  {
   "cell_type": "code",
   "execution_count": 34,
   "metadata": {},
   "outputs": [
    {
     "name": "stdout",
     "output_type": "stream",
     "text": [
      "25\n"
     ]
    }
   ],
   "source": [
    "print(len(mid_salary))"
   ]
  },
  {
   "cell_type": "code",
   "execution_count": 35,
   "metadata": {},
   "outputs": [],
   "source": [
    "middle_salary = pd.DataFrame()\n",
    "middle_salary[\"year\"] = [1996+i for i in range(25)]\n",
    "middle_salary[\"mid salary, hryvnias\"] = mid_salary\n",
    "middle_salary.to_csv(\"middle_salary_primary.csv\")"
   ]
  },
  {
   "cell_type": "code",
   "execution_count": null,
   "metadata": {},
   "outputs": [],
   "source": []
  }
 ],
 "metadata": {
  "kernelspec": {
   "display_name": "Python 3 (ipykernel)",
   "language": "python",
   "name": "python3"
  },
  "language_info": {
   "codemirror_mode": {
    "name": "ipython",
    "version": 3
   },
   "file_extension": ".py",
   "mimetype": "text/x-python",
   "name": "python",
   "nbconvert_exporter": "python",
   "pygments_lexer": "ipython3",
   "version": "3.9.7"
  }
 },
 "nbformat": 4,
 "nbformat_minor": 4
}
